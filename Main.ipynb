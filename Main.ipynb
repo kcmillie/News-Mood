{
 "cells": [
  {
   "cell_type": "code",
   "execution_count": 1,
   "metadata": {},
   "outputs": [],
   "source": [
    "#Your final output should provide a visualized summary of the sentiments expressed in Tweets sent \n",
    "#out by the following news organizations: BBC, CBS, CNN, Fox, and New York times."
   ]
  },
  {
   "cell_type": "code",
   "execution_count": 3,
   "metadata": {},
   "outputs": [],
   "source": [
    "#import dependencies\n",
    "import tweepy\n",
    "import pandas as pd\n",
    "import matplotlib.pyplot as plt\n",
    "import numpy as np\n",
    "\n",
    "from vaderSentiment.vaderSentiment import SentimentIntensityAnalyzer\n",
    "# Twitter API Keys\n",
    "from config import (consumer_key, consumer_secret, \n",
    "                    access_token, access_token_secret)"
   ]
  },
  {
   "cell_type": "code",
   "execution_count": 2,
   "metadata": {},
   "outputs": [],
   "source": [
    "#The first plot will be and/or feature the following:\n",
    "\n",
    "#Be a scatter plot of sentiments of the last 100 tweets sent out by each news organization,\n",
    "#ranging from -1.0 to 1.0, where a score of 0 expresses a neutral sentiment, -1 the most negative \n",
    "#sentiment possible, and +1 the most positive sentiment possible.\n",
    "\n",
    "#Each plot point will reflect the compound sentiment of a tweet.\n",
    "\n",
    "#Sort each plot point by its relative timestamp."
   ]
  },
  {
   "cell_type": "code",
   "execution_count": null,
   "metadata": {},
   "outputs": [],
   "source": [
    "#The second plot will be a bar plot visualizing the overall sentiments of the last 100 tweets from each \n",
    "#organization. For this plot, you will again aggregate the compound sentiments analyzed by VADER."
   ]
  }
 ],
 "metadata": {
  "kernelspec": {
   "display_name": "Python [default]",
   "language": "python",
   "name": "python3"
  },
  "language_info": {
   "codemirror_mode": {
    "name": "ipython",
    "version": 3
   },
   "file_extension": ".py",
   "mimetype": "text/x-python",
   "name": "python",
   "nbconvert_exporter": "python",
   "pygments_lexer": "ipython3",
   "version": "3.6.5"
  }
 },
 "nbformat": 4,
 "nbformat_minor": 2
}
