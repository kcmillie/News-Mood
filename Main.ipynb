{
 "cells": [
  {
   "cell_type": "code",
   "execution_count": null,
   "metadata": {},
   "outputs": [],
   "source": [
    "#Your final output should provide a visualized summary of the sentiments expressed in Tweets sent \n",
    "#out by the following news organizations: BBC, CBS, CNN, Fox, and New York times."
   ]
  },
  {
   "cell_type": "code",
   "execution_count": 1,
   "metadata": {},
   "outputs": [],
   "source": [
    "#import dependencies\n",
    "import tweepy\n",
    "import pandas as pd\n",
    "import matplotlib.pyplot as plt\n",
    "import numpy as np"
   ]
  },
  {
   "cell_type": "code",
   "execution_count": 2,
   "metadata": {},
   "outputs": [],
   "source": [
    "#vader sentimenet\n",
    "from vaderSentiment.vaderSentiment import SentimentIntensityAnalyzer\n",
    "analyzer = SentimentIntensityAnalyzer()"
   ]
  },
  {
   "cell_type": "code",
   "execution_count": 3,
   "metadata": {},
   "outputs": [],
   "source": [
    "# Twitter API Keys\n",
    "from config import (consumer_key, consumer_secret, \n",
    "                    access_token, access_token_secret)\n",
    "\n",
    "# Setup Tweepy API Authentication\n",
    "auth = tweepy.OAuthHandler(consumer_key, consumer_secret)\n",
    "auth.set_access_token(access_token, access_token_secret)\n",
    "api = tweepy.API(auth, parser=tweepy.parsers.JSONParser())"
   ]
  },
  {
   "cell_type": "code",
   "execution_count": 30,
   "metadata": {},
   "outputs": [],
   "source": [
    "target_news = ('@BBC', '@CBS', '@CNN', '@FoxNews', '@nytimes')\n",
    "\n",
    "data = {}\n",
    "  \n",
    "# Variables for holding sentiments\n",
    "compound_list = []\n",
    "positive_list = []\n",
    "negative_list = []\n",
    "neutral_list = []\n",
    "    \n",
    "# Variable for max_id\n",
    "oldest_tweet = None\n",
    "\n",
    "for news in target_news:\n",
    "\n",
    "    # Get all tweets from home feed\n",
    "    public_tweets = api.user_timeline(news, max_id = oldest_tweet)\n",
    "\n",
    "    for tweet in public_tweets:\n",
    "        results = analyzer.polarity_scores(tweet['text'])\n",
    "        compound_list.append(results['compound'])\n",
    "        positive_list.append(results['pos'])\n",
    "        neutral_list.append(results['neu'])\n",
    "        negative_list.append(results['neg'])\n",
    "\n",
    "        # Get Tweet ID, subtract 1, and assign to oldest_tweet\n",
    "        oldest_tweet = tweet['id'] - 1\n",
    "    \n",
    "    data_set = {'compound': compound_list, 'positive': positive_list,\n",
    "               'neutral': neutral_list, 'negative': negative_list}\n",
    "    \n",
    "    data[news] = data_set\n",
    "    "
   ]
  },
  {
   "cell_type": "code",
   "execution_count": 29,
   "metadata": {},
   "outputs": [
    {
     "name": "stdout",
     "output_type": "stream",
     "text": [
      "(100, 4)\n"
     ]
    }
   ],
   "source": [
    "CBS = pd.DataFrame(data['@CBS'])\n",
    "BBC = pd.DataFrame(data['@BBC'])\n",
    "FOX = cbs = pd.DataFrame(data['@Fox'])\n",
    "print(cbs.shape)"
   ]
  },
  {
   "cell_type": "code",
   "execution_count": null,
   "metadata": {},
   "outputs": [],
   "source": [
    "#The first plot will be and/or feature the following:\n",
    "\n",
    "#Be a scatter plot of sentiments of the last 100 tweets sent out by each news organization,\n",
    "#ranging from -1.0 to 1.0, where a score of 0 expresses a neutral sentiment, -1 the most negative \n",
    "#sentiment possible, and +1 the most positive sentiment possible.\n",
    "\n",
    "#Each plot point will reflect the compound sentiment of a tweet.\n",
    "\n",
    "#Sort each plot point by its relative timestamp."
   ]
  },
  {
   "cell_type": "code",
   "execution_count": null,
   "metadata": {},
   "outputs": [],
   "source": [
    "#The second plot will be a bar plot visualizing the overall sentiments of the last 100 tweets from each \n",
    "#organization. For this plot, you will again aggregate the compound sentiments analyzed by VADER."
   ]
  }
 ],
 "metadata": {
  "kernelspec": {
   "display_name": "Python [default]",
   "language": "python",
   "name": "python3"
  },
  "language_info": {
   "codemirror_mode": {
    "name": "ipython",
    "version": 3
   },
   "file_extension": ".py",
   "mimetype": "text/x-python",
   "name": "python",
   "nbconvert_exporter": "python",
   "pygments_lexer": "ipython3",
   "version": "3.6.5"
  }
 },
 "nbformat": 4,
 "nbformat_minor": 2
}
